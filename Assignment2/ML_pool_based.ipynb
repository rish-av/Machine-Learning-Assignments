{
 "cells": [
  {
   "cell_type": "code",
   "execution_count": 3,
   "metadata": {},
   "outputs": [
    {
     "name": "stderr",
     "output_type": "stream",
     "text": [
      "/home/rishav/anaconda3/lib/python3.7/importlib/_bootstrap.py:219: RuntimeWarning: numpy.ufunc size changed, may indicate binary incompatibility. Expected 192 from C header, got 216 from PyObject\n",
      "  return f(*args, **kwds)\n",
      "/home/rishav/anaconda3/lib/python3.7/importlib/_bootstrap.py:219: RuntimeWarning: numpy.ufunc size changed, may indicate binary incompatibility. Expected 192 from C header, got 216 from PyObject\n",
      "  return f(*args, **kwds)\n",
      "/home/rishav/anaconda3/lib/python3.7/importlib/_bootstrap.py:219: RuntimeWarning: numpy.ufunc size changed, may indicate binary incompatibility. Expected 192 from C header, got 216 from PyObject\n",
      "  return f(*args, **kwds)\n"
     ]
    }
   ],
   "source": [
    "from modAL.models import ActiveLearner\n",
    "from modAL.models import Committee\n",
    "from modAL.uncertainty import entropy_sampling, uncertainty_sampling, margin_sampling\n",
    "from modAL.disagreement import vote_entropy\n",
    "from modAL.disagreement import KL_max_disagreement\n",
    "from sklearn.ensemble import RandomForestClassifier\n",
    "from sklearn.linear_model import LogisticRegression\n",
    "from sklearn.metrics import accuracy_score\n",
    "from sklearn import datasets\n",
    "import numpy as np\n",
    "import pandas as pd"
   ]
  },
  {
   "cell_type": "markdown",
   "metadata": {},
   "source": [
    "# Problem 1(Using pool based sampling here)\n",
    "## This section also has all experiments related to pool based pooling"
   ]
  },
  {
   "cell_type": "markdown",
   "metadata": {},
   "source": [
    "## Method for uncertainity sampling"
   ]
  },
  {
   "cell_type": "code",
   "execution_count": 21,
   "metadata": {},
   "outputs": [],
   "source": [
    "#function for 1(a), this uses pool based pooling\n",
    "def active_learning_single(X,y,n_queries,n_keep,query_strategy):\n",
    "    idx_initial = np.random.choice(range(len(X)), size=n_keep, replace=False)\n",
    "    idx_rem = [i for i in range(len(X)) if i not in idx_initial]\n",
    "\n",
    "    x_initial = X[idx_initial]\n",
    "    y_initial = y[idx_initial]\n",
    "\n",
    "    x_rem = X[idx_rem]\n",
    "    y_rem = y[idx_rem]\n",
    "    \n",
    "    act_learner = ActiveLearner(estimator=LogisticRegression(),X_training=x_initial,y_training=y_initial,query_strategy=query_strategy)\n",
    "    performance_track = []\n",
    "    performance_track.append(act_learner.score(x_rem,y_rem))\n",
    "    \n",
    "    for i in range(n_queries):\n",
    "        #picking out next 10% of data\n",
    "        idx_next_10 = np.random.choice(range(x_rem.shape[0]),size=int(x.shape[0]*.1),replace=False)\n",
    "        x_rem_10 = x_rem[idx_next_10]\n",
    "        y_rem_10 = y_rem[idx_next_10]\n",
    "        \n",
    "        for j in range(x_rem_10.shape[0]):\n",
    "            query_idx, query_instance = act_learner.query(x_rem_10)\n",
    "            #y_pred = act_learner.predict(x_rem)\n",
    "            act_learner.teach(x_rem_10[query_idx], y_rem_10[query_idx])\n",
    "            #print(accuracy_score(y_rem, y_pred))\n",
    "            x_rem_10 = np.delete(x_rem_10, query_idx, 0)\n",
    "            y_rem_10 = np.delete(y_rem_10, query_idx, 0)\n",
    "    \n",
    "        x_rem = np.delete(x_rem, idx_next_10, 0) \n",
    "        y_rem = np.delete(y_rem, idx_next_10, 0)\n",
    "        performance_track.append(act_learner.score(x_rem,y_rem))\n",
    "    return performance_track"
   ]
  },
  {
   "cell_type": "markdown",
   "metadata": {},
   "source": [
    "## Dataset Loading & Preprocessing"
   ]
  },
  {
   "cell_type": "code",
   "execution_count": 27,
   "metadata": {},
   "outputs": [],
   "source": [
    "data = pd.read_csv('Data/pendigits.tra').to_numpy()\n",
    "x = data[:,:16]\n",
    "y = data[:,16]"
   ]
  },
  {
   "cell_type": "markdown",
   "metadata": {},
   "source": [
    "## Method for QBC"
   ]
  },
  {
   "cell_type": "code",
   "execution_count": 112,
   "metadata": {},
   "outputs": [
    {
     "name": "stdout",
     "output_type": "stream",
     "text": [
      "[0.972972972972973]\n"
     ]
    }
   ],
   "source": [
    "def active_learning_committee(X,y,n_queries,n_committee,n_keep,query_strategy):\n",
    "    learners = []\n",
    "    x_initial = X[idx_initial]\n",
    "    y_initial = y[idx_initial]\n",
    "\n",
    "    x_rem = X[idx_rem]\n",
    "    y_rem = y[idx_rem]\n",
    "    for i in range(n_committee):\n",
    "        idx_initial = np.random.choice(range(len(X)), size=n_keep, replace=False)\n",
    "        idx_rem = [i for i in range(len(X)) if i not in idx_initial]\n",
    "\n",
    "        learner = ActiveLearner(estimator=LogisticRegression(),X_training=x_initial,y_training=y_initial)\n",
    "        learners.append(learner)\n",
    "    \n",
    "    committee = Committee(learner_list=learners,query_strategy=query_strategy)\n",
    "    comm_perform = []\n",
    "\n",
    "    comm_perform.append(committee.score(x_rem,y_rem))\n",
    "    for i in range(n_queries):\n",
    "        idx_next_10 = np.random.choice(range(x_rem.shape[0]),size=int(x.shape[0]*.1),replace=False)\n",
    "        x_rem_10 = x_rem[idx_next_10]\n",
    "        y_rem_10 = y_rem[idx_next_10]\n",
    "        \n",
    "        for j in range(x_rem_10.shape[0]):\n",
    "            query_idx, query_instance = committee.query(x_rem_10)\n",
    "            committee.teach(x_rem_10[query_idx],y_rem_10[query_idx])\n",
    "            x_rem_10 = np.delete(x_rem_10,query_idx,0)\n",
    "            y_rem_10 = np.delete(y_rem_10,query_idx,0)\n",
    "            \n",
    "        x_rem = np.delete(x_rem, idx_next_10, 0) \n",
    "        y_rem = np.delete(y_rem, idx_next_10, 0) \n",
    "        comm_perform.append(committee.score(x_rem,y_rem))\n",
    "    return comm_perform"
   ]
  },
  {
   "cell_type": "markdown",
   "metadata": {},
   "source": [
    "# Evaluation"
   ]
  },
  {
   "cell_type": "code",
   "execution_count": null,
   "metadata": {},
   "outputs": [],
   "source": []
  }
 ],
 "metadata": {
  "kernelspec": {
   "display_name": "Python 3",
   "language": "python",
   "name": "python3"
  },
  "language_info": {
   "codemirror_mode": {
    "name": "ipython",
    "version": 3
   },
   "file_extension": ".py",
   "mimetype": "text/x-python",
   "name": "python",
   "nbconvert_exporter": "python",
   "pygments_lexer": "ipython3",
   "version": "3.7.6"
  }
 },
 "nbformat": 4,
 "nbformat_minor": 4
}
