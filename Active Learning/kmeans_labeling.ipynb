{
 "cells": [
  {
   "cell_type": "code",
   "execution_count": 1,
   "metadata": {},
   "outputs": [],
   "source": [
    "#please install the following pip packages to run this code\n",
    "\n",
    "#pip install modAL\n",
    "#pip install scikit-learn\n",
    "#pip install matplotlib\n",
    "#pip install pandas\n",
    "#pip install numpy\n",
    "\n",
    "from sklearn.cluster import KMeans\n",
    "import pandas as pd\n",
    "import numpy as np\n",
    "\n",
    "from sklearn.neighbors import KNeighborsClassifier"
   ]
  },
  {
   "cell_type": "code",
   "execution_count": 2,
   "metadata": {},
   "outputs": [],
   "source": [
    "data = pd.read_csv(\"Data/pendigits.tra\").to_numpy()\n",
    "data_test = pd.read_csv(\"Data/pendigits.tes\").to_numpy()\n",
    "x = data[:,:16]\n",
    "y = data[:,16]\n",
    "\n",
    "x_tes = data_test[:,:16]\n",
    "y_tes = data_test[:,16]"
   ]
  },
  {
   "cell_type": "code",
   "execution_count": 3,
   "metadata": {},
   "outputs": [],
   "source": [
    "idx_90_percent = np.random.choice(range(x.shape[0]),size=int(0.9*x.shape[0]),replace=False)\n",
    "idx_10_percent = [i for i in range(x.shape[0]) if i not in idx_90_percent]\n",
    "\n",
    "x_90 = x[idx_90_percent]\n",
    "y_90 = y[idx_90_percent]\n",
    "\n",
    "x_10 = x[idx_10_percent]\n",
    "y_10 = y[idx_10_percent]\n",
    "\n",
    "idx_90_40 = np.random.choice(range(x_90.shape[0]),size=int(0.4*x_90.shape[0]),replace=False)\n",
    "x_90_40 = x[idx_90_40]\n",
    "y_90_40 = y[idx_90_40]"
   ]
  },
  {
   "cell_type": "code",
   "execution_count": 4,
   "metadata": {},
   "outputs": [],
   "source": [
    "out_kmeans = KMeans(n_clusters=10).fit(x_90_40)"
   ]
  },
  {
   "cell_type": "code",
   "execution_count": 5,
   "metadata": {},
   "outputs": [],
   "source": [
    "clusters = {i:list() for i in range(10)}\n",
    "for point in x_90_40:\n",
    "    label = out_kmeans.predict(point.reshape(1,-1))\n",
    "    clusters[label[0]].append(point)"
   ]
  },
  {
   "cell_type": "code",
   "execution_count": 6,
   "metadata": {},
   "outputs": [],
   "source": [
    "#taking out 20% point from all clusters\n",
    "clusters_20_perc = {i:list() for i in range(10)}\n",
    "total_points_20_perc = 0\n",
    "for i in range(len(clusters)):\n",
    "    idx_20_percent = np.random.choice(range(len(clusters[i])),size=int(0.2*len(clusters[i])),replace=False)\n",
    "    total_points_20_perc+=int(0.2*len(clusters[i]))\n",
    "    clusters_20_perc[i].append(np.array(clusters[i])[idx_20_percent])"
   ]
  },
  {
   "cell_type": "code",
   "execution_count": 7,
   "metadata": {},
   "outputs": [],
   "source": [
    "def get_index(X,item):\n",
    "    for i in range(len(X)):\n",
    "        if (X[i]==item).all():\n",
    "            return i"
   ]
  },
  {
   "cell_type": "code",
   "execution_count": 8,
   "metadata": {},
   "outputs": [],
   "source": [
    "#getting the real_labels for the 20% points which would be extrapolated to the whole cluster\n",
    "real_labels = {i:0 for i in range(10)}\n",
    "for i in range(len(clusters_20_perc)):\n",
    "    i_th_cluster = clusters_20_perc[i]\n",
    "    label_count = [0 for i in range(10)]\n",
    "    for item in i_th_cluster[0]:\n",
    "        item_idx = get_index(x_90_40,item)\n",
    "        real_label = y_90_40[item_idx]\n",
    "        label_count[real_label]+=1\n",
    "    real_labels[i] = np.argmax(label_count)"
   ]
  },
  {
   "cell_type": "code",
   "execution_count": 9,
   "metadata": {},
   "outputs": [],
   "source": [
    "correct_preds = []\n",
    "x_90_40_cluster_labelled = []\n",
    "y_90_40_cluster_labelled = []\n",
    "\n",
    "for i in range(len(clusters)):\n",
    "    ith_cluster = clusters[i]\n",
    "    correct = 0\n",
    "    total = 0\n",
    "    for item in ith_cluster:\n",
    "        idx = get_index(x_90_40,item)\n",
    "        actual = y_90_40[idx]\n",
    "        if real_labels[i]==actual:\n",
    "            correct+=1\n",
    "        \n",
    "        x_90_40_cluster_labelled.append(item)\n",
    "        y_90_40_cluster_labelled.append(real_labels[i])\n",
    "        \n",
    "        total+=1\n",
    "    correct_preds.append(correct/total)\n",
    "\n",
    "x_90_40_cluster_labelled = np.array(x_90_40_cluster_labelled)\n",
    "y_90_40_cluster_labelled = np.array(y_90_40_cluster_labelled)"
   ]
  },
  {
   "cell_type": "code",
   "execution_count": 10,
   "metadata": {},
   "outputs": [],
   "source": [
    "def find_cost(cost,hour_per_label):\n",
    "    current_cost = total_points_20_perc*cost\n",
    "    current_time = total_points_20_perc*hour_per_label\n",
    "    \n",
    "    saved_money = x_90_40.shape[0]*cost - current_cost\n",
    "    saved_time = x_90_40.shape[0]*hour_per_label - current_time\n",
    "    \n",
    "    return saved_money, saved_time"
   ]
  },
  {
   "cell_type": "code",
   "execution_count": 11,
   "metadata": {},
   "outputs": [
    {
     "name": "stdout",
     "output_type": "stream",
     "text": [
      "Accuracy of cluster based labeling: 0.81\n",
      "The cost saved, saved time due to the labeling strategy respectively: Rs 216200.00 2162.00 Hours\n"
     ]
    }
   ],
   "source": [
    "print(\"Accuracy of cluster based labeling: %.2f\"%np.mean(correct_preds))\n",
    "print(\"The cost saved, saved time due to the labeling strategy respectively: Rs %.2f %.2f Hours\"%(find_cost(100,1)))"
   ]
  },
  {
   "cell_type": "code",
   "execution_count": 12,
   "metadata": {},
   "outputs": [
    {
     "name": "stdout",
     "output_type": "stream",
     "text": [
      "Test Accuracy of KNN when fitted with orginally labelled data: 0.97\n",
      "Test Accuracy of KNN when fitted with data after cluster labeling: 0.72\n"
     ]
    }
   ],
   "source": [
    "#Now we find test accuracy when model was fitted on cluster based labelled data & original_data\n",
    "original_knn = KNeighborsClassifier(n_neighbors=3).fit(x_90_40,y_90_40)\n",
    "cluster_fitted_knn = KNeighborsClassifier(n_neighbors=3).fit(x_90_40_cluster_labelled,y_90_40_cluster_labelled)\n",
    "print(\"Test Accuracy of KNN when fitted with orginally labelled data: %.2f\"%(original_knn.score(x_tes,y_tes)))\n",
    "print(\"Test Accuracy of KNN when fitted with data after cluster labeling: %.2f\"%(cluster_fitted_knn.score(x_tes,y_tes)))"
   ]
  }
 ],
 "metadata": {
  "kernelspec": {
   "display_name": "Python 3",
   "language": "python",
   "name": "python3"
  },
  "language_info": {
   "codemirror_mode": {
    "name": "ipython",
    "version": 3
   },
   "file_extension": ".py",
   "mimetype": "text/x-python",
   "name": "python",
   "nbconvert_exporter": "python",
   "pygments_lexer": "ipython3",
   "version": "3.7.6"
  }
 },
 "nbformat": 4,
 "nbformat_minor": 4
}
